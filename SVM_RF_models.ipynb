{
  "cells": [
    {
      "cell_type": "markdown",
      "metadata": {
        "id": "WFcpNsT2XIpK"
      },
      "source": [
        "Data: https://archive.ics.uci.edu/dataset/401/gene+expression+cancer+rna+seq"
      ]
    },
    {
      "cell_type": "code",
      "execution_count": 5,
      "metadata": {
        "id": "Ox8rJvY3Ng5b"
      },
      "outputs": [],
      "source": [
        "import pandas as pd\n",
        "import numpy as np\n",
        "\n",
        "from sklearn.preprocessing import LabelEncoder\n",
        "from sklearn.model_selection import train_test_split\n",
        "from sklearn.preprocessing import MinMaxScaler\n",
        "from sklearn.multiclass import OneVsRestClassifier\n",
        "from sklearn.ensemble import RandomForestClassifier\n",
        "from sklearn.metrics import confusion_matrix\n",
        "from sklearn.metrics import balanced_accuracy_score\n",
        "\n",
        "from sklearn.svm import SVC\n",
        "\n",
        "from sklearn.model_selection import cross_val_score\n",
        "from sklearn.model_selection import KFold"
      ]
    },
    {
      "cell_type": "code",
      "execution_count": 6,
      "metadata": {
        "id": "SzKs4lxrJOsu"
      },
      "outputs": [],
      "source": [
        "dfdata = pd.read_csv('your/pathway')\n",
        "dflabels = pd.read_csv('your/pathway')\n",
        "dfdata = dfdata.rename(columns={'Unnamed: 0': 'sample_id'})\n",
        "dflabels = dflabels.rename(columns={'Unnamed: 0': 'sample_id'})\n",
        "\n",
        "# 'sample_id' sütununa göre df ve dflabels verileri birleştirildi\n",
        "merged_df = pd.merge(dfdata, dflabels, on='sample_id')"
      ]
    },
    {
      "cell_type": "code",
      "execution_count": 7,
      "metadata": {
        "colab": {
          "base_uri": "https://localhost:8080/"
        },
        "id": "ro0l3h6jH3uD",
        "outputId": "7b8e1962-96fd-429c-99f2-7741e62d1c89"
      },
      "outputs": [
        {
          "data": {
            "text/plain": [
              "(801, 20532)"
            ]
          },
          "execution_count": 7,
          "metadata": {},
          "output_type": "execute_result"
        }
      ],
      "source": [
        "dfdata.shape"
      ]
    },
    {
      "cell_type": "code",
      "execution_count": 8,
      "metadata": {
        "id": "-vfj4DG6AXMm"
      },
      "outputs": [],
      "source": [
        "#bağımsız değişkenler -> X, Bağımlı değişken -> Y\n",
        "X = merged_df.iloc[:,1:-1] #sample_id hariç\n",
        "y = merged_df.iloc[:,-1]"
      ]
    },
    {
      "cell_type": "code",
      "execution_count": 9,
      "metadata": {
        "id": "GkdkBLlpAYPw"
      },
      "outputs": [],
      "source": [
        "#class encoding\n",
        "label_encoder=LabelEncoder()\n",
        "label_encoder.fit(y)\n",
        "y_encoded=label_encoder.transform(y)\n",
        "labels=label_encoder.classes_\n",
        "classes=np.unique(y_encoded)"
      ]
    },
    {
      "cell_type": "code",
      "execution_count": 10,
      "metadata": {
        "colab": {
          "base_uri": "https://localhost:8080/"
        },
        "id": "auUUK7vfNpV_",
        "outputId": "420c4f42-bcd0-4be6-a9c5-4c3a4cd3763a"
      },
      "outputs": [
        {
          "name": "stdout",
          "output_type": "stream",
          "text": [
            "['BRCA' 'COAD' 'KIRC' 'LUAD' 'PRAD'] [0 1 2 3 4]\n"
          ]
        }
      ],
      "source": [
        "print(labels, classes)"
      ]
    },
    {
      "cell_type": "code",
      "execution_count": 11,
      "metadata": {
        "id": "4LMApgjQAamB"
      },
      "outputs": [],
      "source": [
        "# verinin %80'i eğitim %20'si test için ayırıldı\n",
        "X_train,X_test,y_train,y_test=train_test_split(X,y_encoded,test_size=0.2,random_state=42,stratify=y_encoded)"
      ]
    },
    {
      "cell_type": "code",
      "execution_count": 12,
      "metadata": {
        "id": "rAwnPwgxAc9T"
      },
      "outputs": [],
      "source": [
        "# Featurelar normalize edildi\n",
        "min_max_scaler=MinMaxScaler()\n",
        "X_train_normalized=min_max_scaler.fit_transform(X_train)\n",
        "X_test_normalized=min_max_scaler.fit_transform(X_test)"
      ]
    },
    {
      "cell_type": "code",
      "execution_count": 13,
      "metadata": {
        "id": "NTqoAq7TAe9c"
      },
      "outputs": [],
      "source": [
        "# Random Forest Sınıflandırma\n",
        "RF=OneVsRestClassifier(RandomForestClassifier(max_features=0.2))\n",
        "RF.fit(X_train_normalized,y_train)\n",
        "y_pred_RF =RF.predict(X_test_normalized)"
      ]
    },
    {
      "cell_type": "code",
      "execution_count": 14,
      "metadata": {
        "id": "dLogsQWUAiAw"
      },
      "outputs": [],
      "source": [
        "#k-fold cross validation\n",
        "num_folds = 10\n",
        "kf = KFold(n_splits=num_folds, shuffle=True, random_state=42)\n"
      ]
    },
    {
      "cell_type": "code",
      "execution_count": 15,
      "metadata": {
        "colab": {
          "base_uri": "https://localhost:8080/"
        },
        "id": "xMrUJQP3A1ow",
        "outputId": "6813dd2d-89c9-4a4d-87b3-76b9aaa0c22a"
      },
      "outputs": [
        {
          "name": "stdout",
          "output_type": "stream",
          "text": [
            "Random Forest Cross-Validation Scores for train data: [1.         1.         1.         1.         0.98823529 1.\n",
            " 1.         1.         1.         1.        ]\n",
            "Random Forest Mean Cross-Validation Score for train data: 0.9988235294117647\n"
          ]
        }
      ],
      "source": [
        "# 10-fold cross-validation'ın Random Forest (eğitim verisi) için uygulanması\n",
        "RF_scores = cross_val_score(RF, X_train_normalized, y_train, cv=kf, scoring='balanced_accuracy')\n",
        "print(f'Random Forest Cross-Validation Scores for train data: {RF_scores}')\n",
        "print(f'Random Forest Mean Cross-Validation Score for train data: {RF_scores.mean()}')"
      ]
    },
    {
      "cell_type": "code",
      "execution_count": 16,
      "metadata": {
        "colab": {
          "base_uri": "https://localhost:8080/"
        },
        "id": "Yj_VswYkYSMN",
        "outputId": "999a4c66-0789-4595-ced5-e93f3102b3c8"
      },
      "outputs": [
        {
          "name": "stdout",
          "output_type": "stream",
          "text": [
            "Random Forest Cross-Validation Scores for test data: [1.   1.   1.   1.   0.96 1.   1.   1.   1.   1.  ]\n",
            "Random Forest Mean Cross-Validation Score for test data: 0.9960000000000001\n"
          ]
        }
      ],
      "source": [
        "# 10-fold cross-validation'ın Random Forest (test verisi) için uygulanması\n",
        "RF_scores_test= cross_val_score(RF, X_test_normalized, y_test, cv=kf, scoring='balanced_accuracy')\n",
        "print(f'Random Forest Cross-Validation Scores for test data: {RF_scores_test}')\n",
        "print(f'Random Forest Mean Cross-Validation Score for test data: {RF_scores_test.mean()}')"
      ]
    },
    {
      "cell_type": "code",
      "execution_count": 17,
      "metadata": {
        "colab": {
          "base_uri": "https://localhost:8080/",
          "height": 224
        },
        "id": "LmClEepoAkuu",
        "outputId": "decab17d-b45e-402a-abce-e5bd371a3c49"
      },
      "outputs": [
        {
          "name": "stdout",
          "output_type": "stream",
          "text": [
            "Random Forest Accuracy : 0.9857142857142858\n"
          ]
        },
        {
          "data": {
            "text/html": [
              "\n",
              "  <div id=\"df-66f2a3f7-8199-41b1-a3eb-b68d4c073c8e\" class=\"colab-df-container\">\n",
              "    <div>\n",
              "<style scoped>\n",
              "    .dataframe tbody tr th:only-of-type {\n",
              "        vertical-align: middle;\n",
              "    }\n",
              "\n",
              "    .dataframe tbody tr th {\n",
              "        vertical-align: top;\n",
              "    }\n",
              "\n",
              "    .dataframe thead th {\n",
              "        text-align: right;\n",
              "    }\n",
              "</style>\n",
              "<table border=\"1\" class=\"dataframe\">\n",
              "  <thead>\n",
              "    <tr style=\"text-align: right;\">\n",
              "      <th></th>\n",
              "      <th>BRCA</th>\n",
              "      <th>COAD</th>\n",
              "      <th>KIRC</th>\n",
              "      <th>LUAD</th>\n",
              "      <th>PRAD</th>\n",
              "    </tr>\n",
              "  </thead>\n",
              "  <tbody>\n",
              "    <tr>\n",
              "      <th>BRCA</th>\n",
              "      <td>60</td>\n",
              "      <td>0</td>\n",
              "      <td>0</td>\n",
              "      <td>0</td>\n",
              "      <td>0</td>\n",
              "    </tr>\n",
              "    <tr>\n",
              "      <th>COAD</th>\n",
              "      <td>0</td>\n",
              "      <td>16</td>\n",
              "      <td>0</td>\n",
              "      <td>0</td>\n",
              "      <td>0</td>\n",
              "    </tr>\n",
              "    <tr>\n",
              "      <th>KIRC</th>\n",
              "      <td>0</td>\n",
              "      <td>0</td>\n",
              "      <td>30</td>\n",
              "      <td>0</td>\n",
              "      <td>0</td>\n",
              "    </tr>\n",
              "    <tr>\n",
              "      <th>LUAD</th>\n",
              "      <td>2</td>\n",
              "      <td>0</td>\n",
              "      <td>0</td>\n",
              "      <td>26</td>\n",
              "      <td>0</td>\n",
              "    </tr>\n",
              "    <tr>\n",
              "      <th>PRAD</th>\n",
              "      <td>0</td>\n",
              "      <td>0</td>\n",
              "      <td>0</td>\n",
              "      <td>0</td>\n",
              "      <td>27</td>\n",
              "    </tr>\n",
              "  </tbody>\n",
              "</table>\n",
              "</div>\n",
              "    <div class=\"colab-df-buttons\">\n",
              "\n",
              "  <div class=\"colab-df-container\">\n",
              "    <button class=\"colab-df-convert\" onclick=\"convertToInteractive('df-66f2a3f7-8199-41b1-a3eb-b68d4c073c8e')\"\n",
              "            title=\"Convert this dataframe to an interactive table.\"\n",
              "            style=\"display:none;\">\n",
              "\n",
              "  <svg xmlns=\"http://www.w3.org/2000/svg\" height=\"24px\" viewBox=\"0 -960 960 960\">\n",
              "    <path d=\"M120-120v-720h720v720H120Zm60-500h600v-160H180v160Zm220 220h160v-160H400v160Zm0 220h160v-160H400v160ZM180-400h160v-160H180v160Zm440 0h160v-160H620v160ZM180-180h160v-160H180v160Zm440 0h160v-160H620v160Z\"/>\n",
              "  </svg>\n",
              "    </button>\n",
              "\n",
              "  <style>\n",
              "    .colab-df-container {\n",
              "      display:flex;\n",
              "      gap: 12px;\n",
              "    }\n",
              "\n",
              "    .colab-df-convert {\n",
              "      background-color: #E8F0FE;\n",
              "      border: none;\n",
              "      border-radius: 50%;\n",
              "      cursor: pointer;\n",
              "      display: none;\n",
              "      fill: #1967D2;\n",
              "      height: 32px;\n",
              "      padding: 0 0 0 0;\n",
              "      width: 32px;\n",
              "    }\n",
              "\n",
              "    .colab-df-convert:hover {\n",
              "      background-color: #E2EBFA;\n",
              "      box-shadow: 0px 1px 2px rgba(60, 64, 67, 0.3), 0px 1px 3px 1px rgba(60, 64, 67, 0.15);\n",
              "      fill: #174EA6;\n",
              "    }\n",
              "\n",
              "    .colab-df-buttons div {\n",
              "      margin-bottom: 4px;\n",
              "    }\n",
              "\n",
              "    [theme=dark] .colab-df-convert {\n",
              "      background-color: #3B4455;\n",
              "      fill: #D2E3FC;\n",
              "    }\n",
              "\n",
              "    [theme=dark] .colab-df-convert:hover {\n",
              "      background-color: #434B5C;\n",
              "      box-shadow: 0px 1px 3px 1px rgba(0, 0, 0, 0.15);\n",
              "      filter: drop-shadow(0px 1px 2px rgba(0, 0, 0, 0.3));\n",
              "      fill: #FFFFFF;\n",
              "    }\n",
              "  </style>\n",
              "\n",
              "    <script>\n",
              "      const buttonEl =\n",
              "        document.querySelector('#df-66f2a3f7-8199-41b1-a3eb-b68d4c073c8e button.colab-df-convert');\n",
              "      buttonEl.style.display =\n",
              "        google.colab.kernel.accessAllowed ? 'block' : 'none';\n",
              "\n",
              "      async function convertToInteractive(key) {\n",
              "        const element = document.querySelector('#df-66f2a3f7-8199-41b1-a3eb-b68d4c073c8e');\n",
              "        const dataTable =\n",
              "          await google.colab.kernel.invokeFunction('convertToInteractive',\n",
              "                                                    [key], {});\n",
              "        if (!dataTable) return;\n",
              "\n",
              "        const docLinkHtml = 'Like what you see? Visit the ' +\n",
              "          '<a target=\"_blank\" href=https://colab.research.google.com/notebooks/data_table.ipynb>data table notebook</a>'\n",
              "          + ' to learn more about interactive tables.';\n",
              "        element.innerHTML = '';\n",
              "        dataTable['output_type'] = 'display_data';\n",
              "        await google.colab.output.renderOutput(dataTable, element);\n",
              "        const docLink = document.createElement('div');\n",
              "        docLink.innerHTML = docLinkHtml;\n",
              "        element.appendChild(docLink);\n",
              "      }\n",
              "    </script>\n",
              "  </div>\n",
              "\n",
              "\n",
              "<div id=\"df-7dc6644b-5f95-4f26-a21d-9e9d0a6d8fbe\">\n",
              "  <button class=\"colab-df-quickchart\" onclick=\"quickchart('df-7dc6644b-5f95-4f26-a21d-9e9d0a6d8fbe')\"\n",
              "            title=\"Suggest charts.\"\n",
              "            style=\"display:none;\">\n",
              "\n",
              "<svg xmlns=\"http://www.w3.org/2000/svg\" height=\"24px\"viewBox=\"0 0 24 24\"\n",
              "     width=\"24px\">\n",
              "    <g>\n",
              "        <path d=\"M19 3H5c-1.1 0-2 .9-2 2v14c0 1.1.9 2 2 2h14c1.1 0 2-.9 2-2V5c0-1.1-.9-2-2-2zM9 17H7v-7h2v7zm4 0h-2V7h2v10zm4 0h-2v-4h2v4z\"/>\n",
              "    </g>\n",
              "</svg>\n",
              "  </button>\n",
              "\n",
              "<style>\n",
              "  .colab-df-quickchart {\n",
              "      --bg-color: #E8F0FE;\n",
              "      --fill-color: #1967D2;\n",
              "      --hover-bg-color: #E2EBFA;\n",
              "      --hover-fill-color: #174EA6;\n",
              "      --disabled-fill-color: #AAA;\n",
              "      --disabled-bg-color: #DDD;\n",
              "  }\n",
              "\n",
              "  [theme=dark] .colab-df-quickchart {\n",
              "      --bg-color: #3B4455;\n",
              "      --fill-color: #D2E3FC;\n",
              "      --hover-bg-color: #434B5C;\n",
              "      --hover-fill-color: #FFFFFF;\n",
              "      --disabled-bg-color: #3B4455;\n",
              "      --disabled-fill-color: #666;\n",
              "  }\n",
              "\n",
              "  .colab-df-quickchart {\n",
              "    background-color: var(--bg-color);\n",
              "    border: none;\n",
              "    border-radius: 50%;\n",
              "    cursor: pointer;\n",
              "    display: none;\n",
              "    fill: var(--fill-color);\n",
              "    height: 32px;\n",
              "    padding: 0;\n",
              "    width: 32px;\n",
              "  }\n",
              "\n",
              "  .colab-df-quickchart:hover {\n",
              "    background-color: var(--hover-bg-color);\n",
              "    box-shadow: 0 1px 2px rgba(60, 64, 67, 0.3), 0 1px 3px 1px rgba(60, 64, 67, 0.15);\n",
              "    fill: var(--button-hover-fill-color);\n",
              "  }\n",
              "\n",
              "  .colab-df-quickchart-complete:disabled,\n",
              "  .colab-df-quickchart-complete:disabled:hover {\n",
              "    background-color: var(--disabled-bg-color);\n",
              "    fill: var(--disabled-fill-color);\n",
              "    box-shadow: none;\n",
              "  }\n",
              "\n",
              "  .colab-df-spinner {\n",
              "    border: 2px solid var(--fill-color);\n",
              "    border-color: transparent;\n",
              "    border-bottom-color: var(--fill-color);\n",
              "    animation:\n",
              "      spin 1s steps(1) infinite;\n",
              "  }\n",
              "\n",
              "  @keyframes spin {\n",
              "    0% {\n",
              "      border-color: transparent;\n",
              "      border-bottom-color: var(--fill-color);\n",
              "      border-left-color: var(--fill-color);\n",
              "    }\n",
              "    20% {\n",
              "      border-color: transparent;\n",
              "      border-left-color: var(--fill-color);\n",
              "      border-top-color: var(--fill-color);\n",
              "    }\n",
              "    30% {\n",
              "      border-color: transparent;\n",
              "      border-left-color: var(--fill-color);\n",
              "      border-top-color: var(--fill-color);\n",
              "      border-right-color: var(--fill-color);\n",
              "    }\n",
              "    40% {\n",
              "      border-color: transparent;\n",
              "      border-right-color: var(--fill-color);\n",
              "      border-top-color: var(--fill-color);\n",
              "    }\n",
              "    60% {\n",
              "      border-color: transparent;\n",
              "      border-right-color: var(--fill-color);\n",
              "    }\n",
              "    80% {\n",
              "      border-color: transparent;\n",
              "      border-right-color: var(--fill-color);\n",
              "      border-bottom-color: var(--fill-color);\n",
              "    }\n",
              "    90% {\n",
              "      border-color: transparent;\n",
              "      border-bottom-color: var(--fill-color);\n",
              "    }\n",
              "  }\n",
              "</style>\n",
              "\n",
              "  <script>\n",
              "    async function quickchart(key) {\n",
              "      const quickchartButtonEl =\n",
              "        document.querySelector('#' + key + ' button');\n",
              "      quickchartButtonEl.disabled = true;  // To prevent multiple clicks.\n",
              "      quickchartButtonEl.classList.add('colab-df-spinner');\n",
              "      try {\n",
              "        const charts = await google.colab.kernel.invokeFunction(\n",
              "            'suggestCharts', [key], {});\n",
              "      } catch (error) {\n",
              "        console.error('Error during call to suggestCharts:', error);\n",
              "      }\n",
              "      quickchartButtonEl.classList.remove('colab-df-spinner');\n",
              "      quickchartButtonEl.classList.add('colab-df-quickchart-complete');\n",
              "    }\n",
              "    (() => {\n",
              "      let quickchartButtonEl =\n",
              "        document.querySelector('#df-7dc6644b-5f95-4f26-a21d-9e9d0a6d8fbe button');\n",
              "      quickchartButtonEl.style.display =\n",
              "        google.colab.kernel.accessAllowed ? 'block' : 'none';\n",
              "    })();\n",
              "  </script>\n",
              "</div>\n",
              "    </div>\n",
              "  </div>\n"
            ],
            "text/plain": [
              "      BRCA  COAD  KIRC  LUAD  PRAD\n",
              "BRCA    60     0     0     0     0\n",
              "COAD     0    16     0     0     0\n",
              "KIRC     0     0    30     0     0\n",
              "LUAD     2     0     0    26     0\n",
              "PRAD     0     0     0     0    27"
            ]
          },
          "execution_count": 17,
          "metadata": {},
          "output_type": "execute_result"
        }
      ],
      "source": [
        "#Random Forest için accuracy değeri\n",
        "accuracy_of_RF=balanced_accuracy_score(y_test,y_pred_RF)\n",
        "print(f'Random Forest Accuracy : {accuracy_of_RF}')\n",
        "\n",
        "#Random Forest için confusion matrix\n",
        "cm_RF=confusion_matrix(y_test,y_pred_RF)\n",
        "cm_RF_df=pd.DataFrame(cm_RF,index=labels,columns=labels)\n",
        "cm_RF_df"
      ]
    },
    {
      "cell_type": "code",
      "execution_count": 18,
      "metadata": {
        "id": "sLkUV79aUv0R"
      },
      "outputs": [],
      "source": [
        "# SVM Sınıflandırma\n",
        "SVM = OneVsRestClassifier(SVC())\n",
        "SVM.fit(X_train_normalized, y_train)\n",
        "y_pred_svm = SVM.predict(X_test_normalized)"
      ]
    },
    {
      "cell_type": "code",
      "execution_count": 19,
      "metadata": {
        "colab": {
          "base_uri": "https://localhost:8080/"
        },
        "id": "xnE0Dyl4Uzkm",
        "outputId": "a2cc156c-5e19-4abc-b86c-a924da8648da"
      },
      "outputs": [
        {
          "name": "stdout",
          "output_type": "stream",
          "text": [
            "SVM Cross-Validation Scores for train data: [1.         1.         1.         1.         0.98823529 1.\n",
            " 1.         1.         1.         1.        ]\n",
            "SVM Mean Cross-Validation Score for train data: 0.9988235294117647\n"
          ]
        }
      ],
      "source": [
        "# 10-fold cross-validation'ın Random Forest (eğitim verisi) için uygulanması\n",
        "SVM_scores = cross_val_score(SVM, X_train_normalized, y_train, cv=kf, scoring='balanced_accuracy')\n",
        "print(f'SVM Cross-Validation Scores for train data: {SVM_scores}')\n",
        "print(f'SVM Mean Cross-Validation Score for train data: {SVM_scores.mean()}')"
      ]
    },
    {
      "cell_type": "code",
      "execution_count": 20,
      "metadata": {
        "colab": {
          "base_uri": "https://localhost:8080/"
        },
        "id": "ADyDjvnZZLMJ",
        "outputId": "b3ffebc5-7b7b-488c-dd59-f36e82e96cd6"
      },
      "outputs": [
        {
          "name": "stdout",
          "output_type": "stream",
          "text": [
            "SVM Cross-Validation Scores for test data: [1.         1.         1.         1.         1.         1.\n",
            " 0.93333333 1.         1.         1.        ]\n",
            "SVM Mean Cross-Validation Score for test data: 0.9933333333333334\n"
          ]
        }
      ],
      "source": [
        "# 10-fold cross-validation'ın Random Forest (test verisi) için uygulanması\n",
        "SVM_scores_test = cross_val_score(SVM, X_test_normalized, y_test, cv=kf, scoring='balanced_accuracy')\n",
        "print(f'SVM Cross-Validation Scores for test data: {SVM_scores_test}')\n",
        "print(f'SVM Mean Cross-Validation Score for test data: {SVM_scores_test.mean()}')"
      ]
    },
    {
      "cell_type": "code",
      "execution_count": 21,
      "metadata": {
        "colab": {
          "base_uri": "https://localhost:8080/"
        },
        "id": "lMm7yFoAVC6Y",
        "outputId": "4381feee-751f-4146-9c95-33aadac55ffd"
      },
      "outputs": [
        {
          "name": "stdout",
          "output_type": "stream",
          "text": [
            "SVM accuracy : 0.9928571428571429\n",
            "      BRCA  COAD  KIRC  LUAD  PRAD\n",
            "BRCA    60     0     0     0     0\n",
            "COAD     0    16     0     0     0\n",
            "KIRC     0     0    30     0     0\n",
            "LUAD     1     0     0    27     0\n",
            "PRAD     0     0     0     0    27\n"
          ]
        }
      ],
      "source": [
        "#SVM için accuracy değeri\n",
        "accuracy_svm = balanced_accuracy_score(y_test, y_pred_svm)\n",
        "print(f'SVM accuracy : {accuracy_svm}')\n",
        "\n",
        "#SVM için Confussion matrix\n",
        "cm_svm = confusion_matrix(y_test, y_pred_svm)\n",
        "cm_df_svm = pd.DataFrame(cm_svm, index=labels, columns=labels)\n",
        "print(cm_df_svm)"
      ]
    }
  ],
  "metadata": {
    "colab": {
      "provenance": [],
      "toc_visible": true
    },
    "kernelspec": {
      "display_name": "Python 3",
      "name": "python3"
    },
    "language_info": {
      "name": "python"
    }
  },
  "nbformat": 4,
  "nbformat_minor": 0
}
